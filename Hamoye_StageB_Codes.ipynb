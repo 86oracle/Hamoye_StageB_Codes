{
 "cells": [
  {
   "cell_type": "code",
   "execution_count": null,
   "metadata": {},
   "outputs": [],
   "source": [
    "%matplotlib notebook\n",
    "import numpy as np\n",
    "import pandas as pd\n",
    "import seaborn as sns\n",
    "import matplotlib.pyplot as plt\n",
    "from sklearn.model_selection import train_test_split\n",
    "from sklearn.metrics import mean_absolute_error , mean_squared_error, r2_score\n",
    "from sklearn.preprocessing import MinMaxScaler                        #importing Minmaxscaler for normalization \n",
    "from sklearn.linear_model import LinearRegression, Ridge, Lasso\n",
    "df= pd.read_csv(\"energy_data.csv\")\n",
    "\n",
    "df = df.drop([\"date\", \"lights\"], axis=1)\n",
    "\n",
    "# iNSTANTIATING THE MinMaxScaler() CLASS\n",
    "scaled_df = MinMaxScaler()\n",
    "normalized_df = pd.DataFrame(scaled_df.fit_transform(df), columns=df.columns)\n",
    "target=normalized_df[\"Appliances\"]\n",
    "normalized_features=normalized_df.drop([\"Appliances\"],axis=1)\n",
    "X_train , X_test , y_train, y_test = train_test_split(normalized_features,target, test_size=0.3, random_state=42)\n",
    "model = LinearRegression().fit(X_train,y_train)\n",
    "y_pred=model.predict(X_test)\n",
    "\n",
    "mea = mean_absolute_error(y_test,y_pred)\n",
    "print(\"Question 13 : The mean absolute error is {:.2f}\".format(mea))\n",
    "\n",
    "rss = np.sum(np.square(y_test-y_pred))\n",
    "print(\"Question 14 : The residual sum of square is {:.2f}\".format(rss))\n",
    "\n",
    "rmse = np.sqrt(mean_squared_error(y_test,y_pred))\n",
    "print(\"Question 15 : The root mean squared error is {:.3f}\".format(rmse))\n",
    "\n",
    "r2 = r2_score(y_test,y_pred)\n",
    "print(\"Question 16 : The Coefficient of determination is {:.2f}\".format(r2))\n",
    "\n",
    "\n",
    "# Question 18\n",
    "ridge =Ridge(alpha=0.4).fit(X_train, y_train)\n",
    "y_pred1=ridge.predict(X_test)   \n",
    "rmse = np.sqrt(mean_squared_error(y_test,y_pred1))\n",
    "print(\"Question 18 : The mean absolute error for ridge is {:.3f}\".format(rmse))\n",
    "\n",
    "lasso = Lasso(alpha=0.001).fit(X_train, y_train)\n",
    "y_pred2=lasso.predict(X_test)\n",
    "rmse = np.sqrt(mean_squared_error(y_test,y_pred2))\n",
    "print(\"Question 19 : Number of features with non-zero weights is {}\".format(np.sum(lasso.coef_!=0)))\n",
    "print(\"Question 20 : The root mean squared error with Lasso is {:.3f}\".format(rmse))\n",
    "\n",
    "#QUESTION 17\n",
    "def get_weight_df(model, feat, col_name):\n",
    "    # get_weight_df returns the coefficients or weights of every feature\n",
    "    weight_series = pd.Series(model.coef_,feat.columns).sort_values()          # Getting model weights and features columns\n",
    "    weight_df = pd.DataFrame(weight_series).reset_index()                      # Creates a column of values index and 0\n",
    "    weight_df.columns=[\"Features\", col_name]                                   # replaces weight_df with Features and col_name\n",
    "    weight_df[col_name].round(3) \n",
    "    return weight_df\n",
    "\n",
    "linear_model_weights = get_weight_df(model, X_train,\"Linear Model Weights\")\n",
    "linear_model_weights\n"
   ]
  },
  {
   "cell_type": "code",
   "execution_count": null,
   "metadata": {},
   "outputs": [],
   "source": [
    "features_new =normalized_features[[\"T2\"]]\n",
    "target_new = normalized_features[[\"T6\"]]\n",
    "\n",
    "X_train , X_test , y_train, y_test = train_test_split(features_new,target_new, test_size=0.3, random_state=42)\n",
    "model_1 = LinearRegression().fit(X_train,y_train)\n",
    "y_pred0=model_1.predict(X_test)\n",
    "r2 = r2_score(y_test,y_pred0)\n",
    "print(\"Question 12 : The r2_value is {:.2f}\".format(r2))"
   ]
  },
  {
   "cell_type": "code",
   "execution_count": null,
   "metadata": {},
   "outputs": [],
   "source": []
  }
 ],
 "metadata": {
  "kernelspec": {
   "display_name": "Python 3",
   "language": "python",
   "name": "python3"
  },
  "language_info": {
   "codemirror_mode": {
    "name": "ipython",
    "version": 3
   },
   "file_extension": ".py",
   "mimetype": "text/x-python",
   "name": "python",
   "nbconvert_exporter": "python",
   "pygments_lexer": "ipython3",
   "version": "3.6.5"
  }
 },
 "nbformat": 4,
 "nbformat_minor": 2
}
